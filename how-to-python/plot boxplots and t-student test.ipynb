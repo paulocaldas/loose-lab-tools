{
 "cells": [
  {
   "cell_type": "markdown",
   "metadata": {},
   "source": [
    "## How to Plot Boxplots using Seaborn Module\n",
    "@PauloCaldas 2019, May // https://github.com/paulocaldas/How-to-Python"
   ]
  },
  {
   "cell_type": "code",
   "execution_count": 2,
   "metadata": {},
   "outputs": [],
   "source": [
    "import numpy as np\n",
    "import pandas as pd\n",
    "import scipy.stats\n",
    "import matplotlib.pyplot as plt\n",
    "import seaborn as sns\n",
    "sns.set_style(style='white')\n",
    "sns.set(style='white', font='arial')\n",
    "sns.set_style(\"ticks\", {\"xtick.major.size\": 4, \"ytick.major.size\": 4, \"xtick.minor.size\": 2, \"ytick.minor.size\": 2})\n",
    "%matplotlib inline"
   ]
  },
  {
   "cell_type": "markdown",
   "metadata": {},
   "source": [
    "**read table with boxplot data**"
   ]
  },
  {
   "cell_type": "code",
   "execution_count": 6,
   "metadata": {},
   "outputs": [
    {
     "data": {
      "text/html": [
       "<div>\n",
       "<style scoped>\n",
       "    .dataframe tbody tr th:only-of-type {\n",
       "        vertical-align: middle;\n",
       "    }\n",
       "\n",
       "    .dataframe tbody tr th {\n",
       "        vertical-align: top;\n",
       "    }\n",
       "\n",
       "    .dataframe thead th {\n",
       "        text-align: right;\n",
       "    }\n",
       "</style>\n",
       "<table border=\"1\" class=\"dataframe\">\n",
       "  <thead>\n",
       "    <tr style=\"text-align: right;\">\n",
       "      <th></th>\n",
       "      <th>FtsZ</th>\n",
       "      <th>ZapA wt</th>\n",
       "      <th>I83E</th>\n",
       "      <th>R46A</th>\n",
       "    </tr>\n",
       "  </thead>\n",
       "  <tbody>\n",
       "    <tr>\n",
       "      <th>0</th>\n",
       "      <td>0.737</td>\n",
       "      <td>0.799</td>\n",
       "      <td>0.656</td>\n",
       "      <td>0.643</td>\n",
       "    </tr>\n",
       "    <tr>\n",
       "      <th>1</th>\n",
       "      <td>0.737</td>\n",
       "      <td>0.800</td>\n",
       "      <td>0.659</td>\n",
       "      <td>0.653</td>\n",
       "    </tr>\n",
       "    <tr>\n",
       "      <th>2</th>\n",
       "      <td>0.757</td>\n",
       "      <td>0.685</td>\n",
       "      <td>0.670</td>\n",
       "      <td>0.608</td>\n",
       "    </tr>\n",
       "    <tr>\n",
       "      <th>3</th>\n",
       "      <td>0.634</td>\n",
       "      <td>0.773</td>\n",
       "      <td>0.646</td>\n",
       "      <td>0.666</td>\n",
       "    </tr>\n",
       "    <tr>\n",
       "      <th>4</th>\n",
       "      <td>0.757</td>\n",
       "      <td>0.736</td>\n",
       "      <td>NaN</td>\n",
       "      <td>0.671</td>\n",
       "    </tr>\n",
       "    <tr>\n",
       "      <th>5</th>\n",
       "      <td>0.641</td>\n",
       "      <td>0.768</td>\n",
       "      <td>NaN</td>\n",
       "      <td>NaN</td>\n",
       "    </tr>\n",
       "    <tr>\n",
       "      <th>6</th>\n",
       "      <td>0.616</td>\n",
       "      <td>0.695</td>\n",
       "      <td>NaN</td>\n",
       "      <td>NaN</td>\n",
       "    </tr>\n",
       "    <tr>\n",
       "      <th>7</th>\n",
       "      <td>0.673</td>\n",
       "      <td>0.842</td>\n",
       "      <td>NaN</td>\n",
       "      <td>NaN</td>\n",
       "    </tr>\n",
       "    <tr>\n",
       "      <th>8</th>\n",
       "      <td>0.680</td>\n",
       "      <td>0.730</td>\n",
       "      <td>NaN</td>\n",
       "      <td>NaN</td>\n",
       "    </tr>\n",
       "    <tr>\n",
       "      <th>9</th>\n",
       "      <td>0.641</td>\n",
       "      <td>0.740</td>\n",
       "      <td>NaN</td>\n",
       "      <td>NaN</td>\n",
       "    </tr>\n",
       "    <tr>\n",
       "      <th>10</th>\n",
       "      <td>NaN</td>\n",
       "      <td>0.722</td>\n",
       "      <td>NaN</td>\n",
       "      <td>NaN</td>\n",
       "    </tr>\n",
       "    <tr>\n",
       "      <th>11</th>\n",
       "      <td>NaN</td>\n",
       "      <td>0.689</td>\n",
       "      <td>NaN</td>\n",
       "      <td>NaN</td>\n",
       "    </tr>\n",
       "    <tr>\n",
       "      <th>12</th>\n",
       "      <td>NaN</td>\n",
       "      <td>0.857</td>\n",
       "      <td>NaN</td>\n",
       "      <td>NaN</td>\n",
       "    </tr>\n",
       "    <tr>\n",
       "      <th>13</th>\n",
       "      <td>NaN</td>\n",
       "      <td>0.748</td>\n",
       "      <td>NaN</td>\n",
       "      <td>NaN</td>\n",
       "    </tr>\n",
       "  </tbody>\n",
       "</table>\n",
       "</div>"
      ],
      "text/plain": [
       "     FtsZ  ZapA wt   I83E   R46A\n",
       "0   0.737    0.799  0.656  0.643\n",
       "1   0.737    0.800  0.659  0.653\n",
       "2   0.757    0.685  0.670  0.608\n",
       "3   0.634    0.773  0.646  0.666\n",
       "4   0.757    0.736    NaN  0.671\n",
       "5   0.641    0.768    NaN    NaN\n",
       "6   0.616    0.695    NaN    NaN\n",
       "7   0.673    0.842    NaN    NaN\n",
       "8   0.680    0.730    NaN    NaN\n",
       "9   0.641    0.740    NaN    NaN\n",
       "10    NaN    0.722    NaN    NaN\n",
       "11    NaN    0.689    NaN    NaN\n",
       "12    NaN    0.857    NaN    NaN\n",
       "13    NaN    0.748    NaN    NaN"
      ]
     },
     "execution_count": 6,
     "metadata": {},
     "output_type": "execute_result"
    }
   ],
   "source": [
    "box_data = pd.read_csv('data_examples/boxplots_data.txt', sep = '\\t' )\n",
    "box_data"
   ]
  },
  {
   "cell_type": "markdown",
   "metadata": {},
   "source": [
    "**Plot Multiple Box Plots from a Data Frame**"
   ]
  },
  {
   "cell_type": "code",
   "execution_count": 4,
   "metadata": {},
   "outputs": [
    {
     "data": {
      "image/png": "[encoded data removed]",
      "text/plain": [
       "<Figure size 600x450 with 1 Axes>"
      ]
     },
     "metadata": {
      "needs_background": "light"
     },
     "output_type": "display_data"
    }
   ],
   "source": [
    "fig, ax = plt.subplots(figsize=(4,3), dpi =150)\n",
    "\n",
    "mycolors = ['steelblue','crimson', 'orange', 'seagreen']\n",
    "sns.set_palette(mycolors)\n",
    "\n",
    "ax = sns.boxplot(data = box_data,linewidth = 1, palette = mycolors, width = 0.5, boxprops=dict(alpha=.7))\n",
    "\n",
    "ax = sns.stripplot( data = box_data,size = 6, palette = mycolors,\n",
    "                   jitter=True, alpha=0.8, edgecolor = 'gray', linewidth = 1)\n",
    "\n",
    "plt.tick_params(direction = 'inout', bottom=False, right = False)\n",
    "\n",
    "#plt.box('off')\n",
    "ax.spines['top'].set_visible(False)\n",
    "ax.spines['right'].set_visible(False)\n",
    "ax.spines['bottom'].set_visible(False)\n",
    "plt.ylim([0.55,0.90]);\n",
    "\n",
    "plt.savefig('plot_examples/box_plot_example.png', transparent=False, bbox_inches = 'tight')"
   ]
  },
  {
   "cell_type": "markdown",
   "metadata": {},
   "source": [
    "**Two-sided t-test**"
   ]
  },
  {
   "cell_type": "code",
   "execution_count": 26,
   "metadata": {},
   "outputs": [
    {
     "data": {
      "text/plain": [
       "'pval = 0.0065'"
      ]
     },
     "execution_count": 26,
     "metadata": {},
     "output_type": "execute_result"
    }
   ],
   "source": [
    "#statistical two-sided t-test for two samples\n",
    "\n",
    "FtsZ_sample = box_data['FtsZ'].dropna()\n",
    "ZapA_sample = box_data['ZapA wt'].dropna()\n",
    "\n",
    "t_statistic, pval = scipy.stats.ttest_ind(FtsZ_sample,ZapA_sample, equal_var=False)\n",
    "'pval = {:4.2}'.format(pval)"
   ]
  }
 ],
 "metadata": {
  "kernelspec": {
   "display_name": "Python 3",
   "language": "python",
   "name": "python3"
  },
  "language_info": {
   "codemirror_mode": {
    "name": "ipython",
    "version": 3
   },
   "file_extension": ".py",
   "mimetype": "text/x-python",
   "name": "python",
   "nbconvert_exporter": "python",
   "pygments_lexer": "ipython3",
   "version": "3.8.3"
  }
 },
 "nbformat": 4,
 "nbformat_minor": 2
}
