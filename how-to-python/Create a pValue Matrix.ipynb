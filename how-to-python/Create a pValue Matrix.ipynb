{
 "cells": [
  {
   "cell_type": "markdown",
   "metadata": {},
   "source": [
    "## Create a Matrix with pvalues from Pairwise Comparisons\n",
    "@PauloCaldas 2019, July // https://github.com/paulocaldas/How-to-Python"
   ]
  },
  {
   "cell_type": "markdown",
   "metadata": {},
   "source": [
    "**Import the Basics**"
   ]
  },
  {
   "cell_type": "code",
   "execution_count": 2,
   "metadata": {},
   "outputs": [],
   "source": [
    "import numpy as np\n",
    "import pandas as pd\n",
    "import matplotlib.pyplot as plt\n",
    "import seaborn as sns\n",
    "from scipy.stats import ttest_ind\n",
    "%matplotlib inline"
   ]
  },
  {
   "cell_type": "markdown",
   "metadata": {},
   "source": [
    "**Import Table with Boxplot Data**"
   ]
  },
  {
   "cell_type": "code",
   "execution_count": 39,
   "metadata": {},
   "outputs": [
    {
     "data": {
      "text/html": [
       "<div>\n",
       "<style scoped>\n",
       "    .dataframe tbody tr th:only-of-type {\n",
       "        vertical-align: middle;\n",
       "    }\n",
       "\n",
       "    .dataframe tbody tr th {\n",
       "        vertical-align: top;\n",
       "    }\n",
       "\n",
       "    .dataframe thead th {\n",
       "        text-align: right;\n",
       "    }\n",
       "</style>\n",
       "<table border=\"1\" class=\"dataframe\">\n",
       "  <thead>\n",
       "    <tr style=\"text-align: right;\">\n",
       "      <th></th>\n",
       "      <th>banana</th>\n",
       "      <th>peach</th>\n",
       "      <th>apple</th>\n",
       "      <th>appricot</th>\n",
       "      <th>melon</th>\n",
       "    </tr>\n",
       "  </thead>\n",
       "  <tbody>\n",
       "    <tr>\n",
       "      <th>0</th>\n",
       "      <td>2.180</td>\n",
       "      <td>3.83</td>\n",
       "      <td>2.050</td>\n",
       "      <td>2.050</td>\n",
       "      <td>2.010</td>\n",
       "    </tr>\n",
       "    <tr>\n",
       "      <th>1</th>\n",
       "      <td>1.350</td>\n",
       "      <td>3.15</td>\n",
       "      <td>0.505</td>\n",
       "      <td>0.505</td>\n",
       "      <td>3.620</td>\n",
       "    </tr>\n",
       "    <tr>\n",
       "      <th>2</th>\n",
       "      <td>0.412</td>\n",
       "      <td>5.02</td>\n",
       "      <td>2.210</td>\n",
       "      <td>2.210</td>\n",
       "      <td>2.530</td>\n",
       "    </tr>\n",
       "    <tr>\n",
       "      <th>3</th>\n",
       "      <td>0.418</td>\n",
       "      <td>4.52</td>\n",
       "      <td>1.220</td>\n",
       "      <td>1.220</td>\n",
       "      <td>1.220</td>\n",
       "    </tr>\n",
       "    <tr>\n",
       "      <th>4</th>\n",
       "      <td>1.350</td>\n",
       "      <td>2.40</td>\n",
       "      <td>0.412</td>\n",
       "      <td>2.010</td>\n",
       "      <td>0.412</td>\n",
       "    </tr>\n",
       "    <tr>\n",
       "      <th>5</th>\n",
       "      <td>1.040</td>\n",
       "      <td>3.83</td>\n",
       "      <td>0.418</td>\n",
       "      <td>3.620</td>\n",
       "      <td>0.418</td>\n",
       "    </tr>\n",
       "    <tr>\n",
       "      <th>6</th>\n",
       "      <td>0.905</td>\n",
       "      <td>4.67</td>\n",
       "      <td>1.350</td>\n",
       "      <td>2.530</td>\n",
       "      <td>1.350</td>\n",
       "    </tr>\n",
       "    <tr>\n",
       "      <th>7</th>\n",
       "      <td>2.180</td>\n",
       "      <td>2.92</td>\n",
       "      <td>1.040</td>\n",
       "      <td>1.220</td>\n",
       "      <td>1.040</td>\n",
       "    </tr>\n",
       "    <tr>\n",
       "      <th>8</th>\n",
       "      <td>1.350</td>\n",
       "      <td>3.96</td>\n",
       "      <td>0.905</td>\n",
       "      <td>NaN</td>\n",
       "      <td>0.905</td>\n",
       "    </tr>\n",
       "    <tr>\n",
       "      <th>9</th>\n",
       "      <td>0.412</td>\n",
       "      <td>1.72</td>\n",
       "      <td>NaN</td>\n",
       "      <td>NaN</td>\n",
       "      <td>2.530</td>\n",
       "    </tr>\n",
       "    <tr>\n",
       "      <th>10</th>\n",
       "      <td>NaN</td>\n",
       "      <td>NaN</td>\n",
       "      <td>NaN</td>\n",
       "      <td>NaN</td>\n",
       "      <td>1.220</td>\n",
       "    </tr>\n",
       "  </tbody>\n",
       "</table>\n",
       "</div>"
      ],
      "text/plain": [
       "    banana  peach  apple  appricot  melon\n",
       "0    2.180   3.83  2.050     2.050  2.010\n",
       "1    1.350   3.15  0.505     0.505  3.620\n",
       "2    0.412   5.02  2.210     2.210  2.530\n",
       "3    0.418   4.52  1.220     1.220  1.220\n",
       "4    1.350   2.40  0.412     2.010  0.412\n",
       "5    1.040   3.83  0.418     3.620  0.418\n",
       "6    0.905   4.67  1.350     2.530  1.350\n",
       "7    2.180   2.92  1.040     1.220  1.040\n",
       "8    1.350   3.96  0.905       NaN  0.905\n",
       "9    0.412   1.72    NaN       NaN  2.530\n",
       "10     NaN    NaN    NaN       NaN  1.220"
      ]
     },
     "execution_count": 39,
     "metadata": {},
     "output_type": "execute_result"
    }
   ],
   "source": [
    "boxplots = pd.read_csv('data_examples/fruits.txt', sep = '\\t')\n",
    "boxplots"
   ]
  },
  {
   "cell_type": "markdown",
   "metadata": {},
   "source": [
    "**Function to Compute Two-Tailed T-test for all Possible Pairwise Combination** <br>\n",
    "and to plot the data if needed"
   ]
  },
  {
   "cell_type": "code",
   "execution_count": 50,
   "metadata": {},
   "outputs": [],
   "source": [
    "def pvals_matrix(boxplots_table):\n",
    "    '''generates a paiwise comparission of all columns'''\n",
    "    \n",
    "    pvals_table = []\n",
    "\n",
    "    for name1,values1 in boxplots_table.iteritems():\n",
    "        col1 = values1.dropna()\n",
    "\n",
    "        for name2,values2 in boxplots_table.iteritems():\n",
    "            col2 = values2.dropna()\n",
    "\n",
    "            t_statistic,pval = ttest_ind(col1,col2, equal_var = False)\n",
    "            name = name1,name2\n",
    "            pvals_table.append([name1,name2, pval])\n",
    "    \n",
    "    pvals_table = pd.DataFrame(pvals_table)\n",
    "    pvals_table.columns = ['sample1', 'sample2','pval']\n",
    "    \n",
    "    #re-shape table into a matrix\n",
    "    pvals_matrix = pvals_table.pivot(index = 'sample2', columns = 'sample1', values = 'pval')\n",
    "    \n",
    "    # just a fancy way to show the data\n",
    "    def color_significance(value):\n",
    "        \"\"\" colors numbers green if p<0.05\"\"\"\n",
    "        if value < 0.05:\n",
    "            color = 'green'\n",
    "        else:\n",
    "            color = 'black'\n",
    "        return 'color: %s' % color\n",
    "\n",
    "    pvals_matrix = pvals_matrix.style.applymap(color_significance)\n",
    "\n",
    "    return pvals_matrix"
   ]
  },
  {
   "cell_type": "markdown",
   "metadata": {},
   "source": [
    "**Call the Function to Build the Matrix**"
   ]
  },
  {
   "cell_type": "code",
   "execution_count": 58,
   "metadata": {},
   "outputs": [
    {
     "data": {
      "text/html": [
       "<style  type=\"text/css\" >\n",
       "    #T_ffa19bfe_9c3f_11e9_8802_5ce0c580176crow0_col0 {\n",
       "            color:  black;\n",
       "        }    #T_ffa19bfe_9c3f_11e9_8802_5ce0c580176crow0_col1 {\n",
       "            color:  black;\n",
       "        }    #T_ffa19bfe_9c3f_11e9_8802_5ce0c580176crow0_col2 {\n",
       "            color:  black;\n",
       "        }    #T_ffa19bfe_9c3f_11e9_8802_5ce0c580176crow0_col3 {\n",
       "            color:  black;\n",
       "        }    #T_ffa19bfe_9c3f_11e9_8802_5ce0c580176crow0_col4 {\n",
       "            color:  green;\n",
       "        }    #T_ffa19bfe_9c3f_11e9_8802_5ce0c580176crow1_col0 {\n",
       "            color:  black;\n",
       "        }    #T_ffa19bfe_9c3f_11e9_8802_5ce0c580176crow1_col1 {\n",
       "            color:  black;\n",
       "        }    #T_ffa19bfe_9c3f_11e9_8802_5ce0c580176crow1_col2 {\n",
       "            color:  black;\n",
       "        }    #T_ffa19bfe_9c3f_11e9_8802_5ce0c580176crow1_col3 {\n",
       "            color:  black;\n",
       "        }    #T_ffa19bfe_9c3f_11e9_8802_5ce0c580176crow1_col4 {\n",
       "            color:  green;\n",
       "        }    #T_ffa19bfe_9c3f_11e9_8802_5ce0c580176crow2_col0 {\n",
       "            color:  black;\n",
       "        }    #T_ffa19bfe_9c3f_11e9_8802_5ce0c580176crow2_col1 {\n",
       "            color:  black;\n",
       "        }    #T_ffa19bfe_9c3f_11e9_8802_5ce0c580176crow2_col2 {\n",
       "            color:  black;\n",
       "        }    #T_ffa19bfe_9c3f_11e9_8802_5ce0c580176crow2_col3 {\n",
       "            color:  black;\n",
       "        }    #T_ffa19bfe_9c3f_11e9_8802_5ce0c580176crow2_col4 {\n",
       "            color:  green;\n",
       "        }    #T_ffa19bfe_9c3f_11e9_8802_5ce0c580176crow3_col0 {\n",
       "            color:  black;\n",
       "        }    #T_ffa19bfe_9c3f_11e9_8802_5ce0c580176crow3_col1 {\n",
       "            color:  black;\n",
       "        }    #T_ffa19bfe_9c3f_11e9_8802_5ce0c580176crow3_col2 {\n",
       "            color:  black;\n",
       "        }    #T_ffa19bfe_9c3f_11e9_8802_5ce0c580176crow3_col3 {\n",
       "            color:  black;\n",
       "        }    #T_ffa19bfe_9c3f_11e9_8802_5ce0c580176crow3_col4 {\n",
       "            color:  green;\n",
       "        }    #T_ffa19bfe_9c3f_11e9_8802_5ce0c580176crow4_col0 {\n",
       "            color:  green;\n",
       "        }    #T_ffa19bfe_9c3f_11e9_8802_5ce0c580176crow4_col1 {\n",
       "            color:  green;\n",
       "        }    #T_ffa19bfe_9c3f_11e9_8802_5ce0c580176crow4_col2 {\n",
       "            color:  green;\n",
       "        }    #T_ffa19bfe_9c3f_11e9_8802_5ce0c580176crow4_col3 {\n",
       "            color:  green;\n",
       "        }    #T_ffa19bfe_9c3f_11e9_8802_5ce0c580176crow4_col4 {\n",
       "            color:  black;\n",
       "        }</style><table id=\"T_ffa19bfe_9c3f_11e9_8802_5ce0c580176c\" ><thead>    <tr>        <th class=\"index_name level0\" >sample1</th>        <th class=\"col_heading level0 col0\" >apple</th>        <th class=\"col_heading level0 col1\" >appricot</th>        <th class=\"col_heading level0 col2\" >banana</th>        <th class=\"col_heading level0 col3\" >melon</th>        <th class=\"col_heading level0 col4\" >peach</th>    </tr>    <tr>        <th class=\"index_name level0\" >sample2</th>        <th class=\"blank\" ></th>        <th class=\"blank\" ></th>        <th class=\"blank\" ></th>        <th class=\"blank\" ></th>        <th class=\"blank\" ></th>    </tr></thead><tbody>\n",
       "                <tr>\n",
       "                        <th id=\"T_ffa19bfe_9c3f_11e9_8802_5ce0c580176clevel0_row0\" class=\"row_heading level0 row0\" >apple</th>\n",
       "                        <td id=\"T_ffa19bfe_9c3f_11e9_8802_5ce0c580176crow0_col0\" class=\"data row0 col0\" >1</td>\n",
       "                        <td id=\"T_ffa19bfe_9c3f_11e9_8802_5ce0c580176crow0_col1\" class=\"data row0 col1\" >0.070792</td>\n",
       "                        <td id=\"T_ffa19bfe_9c3f_11e9_8802_5ce0c580176crow0_col2\" class=\"data row0 col2\" >0.90646</td>\n",
       "                        <td id=\"T_ffa19bfe_9c3f_11e9_8802_5ce0c580176crow0_col3\" class=\"data row0 col3\" >0.248988</td>\n",
       "                        <td id=\"T_ffa19bfe_9c3f_11e9_8802_5ce0c580176crow0_col4\" class=\"data row0 col4\" >1.46907e-05</td>\n",
       "            </tr>\n",
       "            <tr>\n",
       "                        <th id=\"T_ffa19bfe_9c3f_11e9_8802_5ce0c580176clevel0_row1\" class=\"row_heading level0 row1\" >appricot</th>\n",
       "                        <td id=\"T_ffa19bfe_9c3f_11e9_8802_5ce0c580176crow1_col0\" class=\"data row1 col0\" >0.070792</td>\n",
       "                        <td id=\"T_ffa19bfe_9c3f_11e9_8802_5ce0c580176crow1_col1\" class=\"data row1 col1\" >1</td>\n",
       "                        <td id=\"T_ffa19bfe_9c3f_11e9_8802_5ce0c580176crow1_col2\" class=\"data row1 col2\" >0.078967</td>\n",
       "                        <td id=\"T_ffa19bfe_9c3f_11e9_8802_5ce0c580176crow1_col3\" class=\"data row1 col3\" >0.447068</td>\n",
       "                        <td id=\"T_ffa19bfe_9c3f_11e9_8802_5ce0c580176crow1_col4\" class=\"data row1 col4\" >0.00269113</td>\n",
       "            </tr>\n",
       "            <tr>\n",
       "                        <th id=\"T_ffa19bfe_9c3f_11e9_8802_5ce0c580176clevel0_row2\" class=\"row_heading level0 row2\" >banana</th>\n",
       "                        <td id=\"T_ffa19bfe_9c3f_11e9_8802_5ce0c580176crow2_col0\" class=\"data row2 col0\" >0.90646</td>\n",
       "                        <td id=\"T_ffa19bfe_9c3f_11e9_8802_5ce0c580176crow2_col1\" class=\"data row2 col1\" >0.078967</td>\n",
       "                        <td id=\"T_ffa19bfe_9c3f_11e9_8802_5ce0c580176crow2_col2\" class=\"data row2 col2\" >1</td>\n",
       "                        <td id=\"T_ffa19bfe_9c3f_11e9_8802_5ce0c580176crow2_col3\" class=\"data row2 col3\" >0.279011</td>\n",
       "                        <td id=\"T_ffa19bfe_9c3f_11e9_8802_5ce0c580176crow2_col4\" class=\"data row2 col4\" >1.51573e-05</td>\n",
       "            </tr>\n",
       "            <tr>\n",
       "                        <th id=\"T_ffa19bfe_9c3f_11e9_8802_5ce0c580176clevel0_row3\" class=\"row_heading level0 row3\" >melon</th>\n",
       "                        <td id=\"T_ffa19bfe_9c3f_11e9_8802_5ce0c580176crow3_col0\" class=\"data row3 col0\" >0.248988</td>\n",
       "                        <td id=\"T_ffa19bfe_9c3f_11e9_8802_5ce0c580176crow3_col1\" class=\"data row3 col1\" >0.447068</td>\n",
       "                        <td id=\"T_ffa19bfe_9c3f_11e9_8802_5ce0c580176crow3_col2\" class=\"data row3 col2\" >0.279011</td>\n",
       "                        <td id=\"T_ffa19bfe_9c3f_11e9_8802_5ce0c580176crow3_col3\" class=\"data row3 col3\" >1</td>\n",
       "                        <td id=\"T_ffa19bfe_9c3f_11e9_8802_5ce0c580176crow3_col4\" class=\"data row3 col4\" >0.000232358</td>\n",
       "            </tr>\n",
       "            <tr>\n",
       "                        <th id=\"T_ffa19bfe_9c3f_11e9_8802_5ce0c580176clevel0_row4\" class=\"row_heading level0 row4\" >peach</th>\n",
       "                        <td id=\"T_ffa19bfe_9c3f_11e9_8802_5ce0c580176crow4_col0\" class=\"data row4 col0\" >1.46907e-05</td>\n",
       "                        <td id=\"T_ffa19bfe_9c3f_11e9_8802_5ce0c580176crow4_col1\" class=\"data row4 col1\" >0.00269113</td>\n",
       "                        <td id=\"T_ffa19bfe_9c3f_11e9_8802_5ce0c580176crow4_col2\" class=\"data row4 col2\" >1.51573e-05</td>\n",
       "                        <td id=\"T_ffa19bfe_9c3f_11e9_8802_5ce0c580176crow4_col3\" class=\"data row4 col3\" >0.000232358</td>\n",
       "                        <td id=\"T_ffa19bfe_9c3f_11e9_8802_5ce0c580176crow4_col4\" class=\"data row4 col4\" >1</td>\n",
       "            </tr>\n",
       "    </tbody></table>"
      ],
      "text/plain": [
       "<pandas.io.formats.style.Styler at 0x2571ca58>"
      ]
     },
     "execution_count": 58,
     "metadata": {},
     "output_type": "execute_result"
    }
   ],
   "source": [
    " pvals_matrix(boxplots)"
   ]
  },
  {
   "cell_type": "markdown",
   "metadata": {},
   "source": [
    "**Plot the Data**"
   ]
  },
  {
   "cell_type": "code",
   "execution_count": 57,
   "metadata": {},
   "outputs": [
    {
     "data": {
      "image/png": "[encoded data removed]",
      "text/plain": [
       "<Figure size 750x450 with 1 Axes>"
      ]
     },
     "metadata": {
      "needs_background": "light"
     },
     "output_type": "display_data"
    }
   ],
   "source": [
    "boxplots_data = boxplots\n",
    "\n",
    "fig, ax = plt.subplots(figsize = (boxplots_data.shape[1],3), dpi = 150)\n",
    "\n",
    "mycolors = ['red','blue','green','orange','magenta']\n",
    "\n",
    "sns.boxplot(data = boxplots_data, linewidth = 1, palette = mycolors, width = 0.5, boxprops = dict(alpha=0.7), ax = ax)\n",
    "sns.stripplot( data = boxplots_data ,size = 6, palette = mycolors, jitter=True, alpha = 0.8, edgecolor = 'black', linewidth = 1, ax = ax)\n",
    "\n",
    "plt.tick_params(direction = 'inout', bottom=False, right = False, width = 1)\n",
    "ax.spines['top'].set_visible(False)\n",
    "ax.spines['right'].set_visible(False)\n",
    "ax.spines['bottom'].set_visible(False)\n",
    "plt.ylabel('smth being measured', fontsize=12)\n",
    "plt.ylim([0,6]);"
   ]
  }
 ],
 "metadata": {
  "kernelspec": {
   "display_name": "Python 3",
   "language": "python",
   "name": "python3"
  },
  "language_info": {
   "codemirror_mode": {
    "name": "ipython",
    "version": 3
   },
   "file_extension": ".py",
   "mimetype": "text/x-python",
   "name": "python",
   "nbconvert_exporter": "python",
   "pygments_lexer": "ipython3",
   "version": "3.8.3"
  }
 },
 "nbformat": 4,
 "nbformat_minor": 2
}
