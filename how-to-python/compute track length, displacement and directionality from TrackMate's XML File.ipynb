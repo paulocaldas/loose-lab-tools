{
 "cells": [
  {
   "cell_type": "markdown",
   "metadata": {},
   "source": [
    "## Track Length, Displacement and Directionality From Trajectories \n",
    "<hr>\n",
    "\n",
    "@PauloCaldas, October 2020"
   ]
  },
  {
   "cell_type": "markdown",
   "metadata": {},
   "source": [
    "### Core Functions"
   ]
  },
  {
   "cell_type": "code",
   "execution_count": 18,
   "metadata": {},
   "outputs": [],
   "source": [
    "import pandas as pd\n",
    "import numpy as np\n",
    "import seaborn as sns\n",
    "import matplotlib.pyplot as plt\n",
    "from matplotlib.ticker import FormatStrFormatter\n",
    "\n",
    "def read_trackmate_xml_tracks(xml_file):\n",
    "    \"\"\"Reads tracks from trackmate xml track file and converts into a user-friendly DataFrame \"\"\"\n",
    "    \n",
    "    from xml.etree import cElementTree as ET\n",
    "    \n",
    "    tracks = ET.parse(xml_file)\n",
    "    frame_interval = float(tracks.getroot().attrib[\"frameInterval\"])\n",
    "    n_tracks = float(tracks.getroot().attrib[\"nTracks\"])\n",
    "    \n",
    "    attributes = []\n",
    "    for ti, track in enumerate(tracks.iterfind('particle')):\n",
    "        for spots in track.iterfind('detection'):\n",
    "            attributes.append([ti, int(spots.attrib.get('t')),\n",
    "                                   float(spots.attrib.get('x')),\n",
    "                                   float(spots.attrib.get('y'))])\n",
    "\n",
    "    track_table = pd.DataFrame(attributes, columns=['TRACK_ID','FRAME','POSITION_X','POSITION_Y'])\n",
    "    return track_table, frame_interval, n_tracks\n",
    "\n",
    "def FilterTracks(traj_table, minlen):\n",
    "    '''filter tracks shorter than minlen, in frames'''\n",
    "    return traj_table.groupby('TRACK_ID').filter(lambda track: track.TRACK_ID.count() > minlen)\n",
    "\n",
    "def UnpackList(list):\n",
    "    return [i for j in list for i in j]\n",
    "\n",
    "def ComputeDirectionality(track_table, coord = ['POSITION_X','POSITION_Y']):\n",
    "    '''estimates distance, displacement and directionality for a given track '''\n",
    "\n",
    "    steps = []\n",
    "    \n",
    "    for frame in range(1,len(track_table)):\n",
    "        step_dist = np.linalg.norm(track_table[coord].iloc[frame] - (track_table[coord].iloc[frame-1]))\n",
    "        steps.append(step_dist)\n",
    "\n",
    "    displacement = np.linalg.norm(track_table[coord].iloc[0] - track_table[coord].iloc[-1])\n",
    "    distance = np.sum(steps)\n",
    "    directionality = displacement/np.sum(steps)\n",
    "    \n",
    "    return distance, displacement, directionality\n",
    "\n",
    "def GetDirectionalParams(tracks_table, filter_tracks = 10, clip = -1):\n",
    "    '''get distribution of track length, displacement and directionality ratio for all tracks in tracs_table\n",
    "    filter_tracks: tracks with a number of frames smaller than this number are discarded\n",
    "    clip: truncate the table to save computation time; clip = -1 to analyze all tracks (default)'''\n",
    "    \n",
    "    tracks_table = FilterTracks(tracks_table[:clip], filter_tracks)\n",
    "    \n",
    "    distances, displacements, directionalies = [], [], []\n",
    "        \n",
    "    for i in tracks_table.TRACK_ID.unique().tolist():\n",
    "        \n",
    "        traj = tracks_table[tracks_table.TRACK_ID == i]\n",
    "        \n",
    "        try:\n",
    "            \n",
    "            distance, displacement, directionality = ComputeDirectionality(traj)\n",
    "                \n",
    "            distances.append(distance)\n",
    "            displacements.append(displacement)\n",
    "            directionalies.append(directionality)\n",
    "        \n",
    "        except:\n",
    "            pass\n",
    "        \n",
    "    return distances, displacements, directionalies"
   ]
  },
  {
   "cell_type": "markdown",
   "metadata": {},
   "source": [
    "### Read Files"
   ]
  },
  {
   "cell_type": "code",
   "execution_count": 10,
   "metadata": {},
   "outputs": [],
   "source": [
    "folder = \"data_examples/\"\n",
    "\n",
    "filename = folder + 'FtsN_SPT_Tracks.xml'\n",
    "traj_table, rate, ntracks = read_trackmate_xml_tracks(filename)"
   ]
  },
  {
   "cell_type": "markdown",
   "metadata": {},
   "source": [
    "### Get Track Length, Track Displacement and Track Directionality Ratio (phi)"
   ]
  },
  {
   "cell_type": "code",
   "execution_count": 24,
   "metadata": {},
   "outputs": [],
   "source": [
    "traj_lenth, traj_disp, traj_phi = GetDirectionalParams(traj_table, filter_tracks = 10, clip = -1)"
   ]
  },
  {
   "cell_type": "markdown",
   "metadata": {},
   "source": [
    "### Plot Pretty Stuff ... "
   ]
  },
  {
   "cell_type": "code",
   "execution_count": 30,
   "metadata": {},
   "outputs": [
    {
     "data": {
      "image/png": "[encoded data removed]",
      "text/plain": [
       "<Figure size 600x450 with 1 Axes>"
      ]
     },
     "metadata": {
      "needs_background": "light"
     },
     "output_type": "display_data"
    }
   ],
   "source": [
    "fig, ax = plt.subplots(figsize=(4,3), dpi = 150)\n",
    "\n",
    "hist_kwg = {'bins':25, 'edgecolor':'black', 'alpha': 0.7, 'density':True}\n",
    "\n",
    "plt.hist(traj_disp, **hist_kwg, color = 'blue', label = 'my_tracks');\n",
    "\n",
    "plt.legend(frameon = False, fontsize = 10)\n",
    "plt.title('', fontsize = 8)\n",
    "plt.xlabel('track length (microns)', fontsize = 8); plt.ylabel('PDF');\n",
    "#plt.xlim([-0.01,1]);"
   ]
  }
 ],
 "metadata": {
  "kernelspec": {
   "display_name": "Python 3",
   "language": "python",
   "name": "python3"
  },
  "language_info": {
   "codemirror_mode": {
    "name": "ipython",
    "version": 3
   },
   "file_extension": ".py",
   "mimetype": "text/x-python",
   "name": "python",
   "nbconvert_exporter": "python",
   "pygments_lexer": "ipython3",
   "version": "3.8.3"
  }
 },
 "nbformat": 4,
 "nbformat_minor": 4
}
