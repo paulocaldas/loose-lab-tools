{
 "cells": [
  {
   "cell_type": "markdown",
   "metadata": {},
   "source": [
    "# photobleach corrrection for single particle tracking (script)\n",
    "author, date = pcaldas@ist.ac.at, May2021 version\n",
    "\n",
    "- A dialog window opens to select all the files for the analysis (.csv/.txt files with different acquision times)\n",
    "- Column name 'TRACK_DURATION' is chosen by default (TrackMate output)\n",
    "- The script is prepared to extract que acquisition rate from the file name (in msec or sec right before the extention type)\n",
    "- binsize is adjusted to each experiment according to the frame rate: binsize = 2 frames by default\n",
    "- set a thres: lifetimes shorter than this value are discarded (in frames) - 1 frame by default\n",
    "- set a cutoff: lifetimes longer than this value are discarded (in frames) - 100 frames by default\n",
    "- all functions run from the src folder : photobleachCorrection.py\n",
    "<hr>"
   ]
  },
  {
   "cell_type": "markdown",
   "metadata": {},
   "source": [
    "### Photobleach Correction - Select Files Interactively"
   ]
  },
  {
   "cell_type": "code",
   "execution_count": null,
   "metadata": {},
   "outputs": [],
   "source": [
    "from src.photobleachCorrection import ComputePhotobleachCorrection\n",
    "\n",
    "ComputePhotobleachCorrection(thres = 1,  #lifetimes shorter than this value are discarded (in frames)\n",
    "                             cutoff = 100, # lifetimes longer than this value are discarded (in frames)\n",
    "                             t_exp = 0.5, # exposure time\n",
    "                             bin_width = 1, # bin width in frames\n",
    "                             plot_xlim = 4); # x_axis upper limit"
   ]
  },
  {
   "cell_type": "markdown",
   "metadata": {},
   "source": [
    "### Sanity Check - Compute Distributions Individually"
   ]
  },
  {
   "cell_type": "code",
   "execution_count": null,
   "metadata": {},
   "outputs": [],
   "source": [
    "from src.photobleachCorrection import ComputeLifetimeDistributions\n",
    "\n",
    "ComputeLifetimeDistributions(thres = 1,  #lifetimes shorter than this value are discarded (in frames)\n",
    "                             cutoff = 100, # lifetimes longer than this value are discarded (in frames)\n",
    "                             t_exp = 0.5, # exposure time\n",
    "                             bin_width = 1) # bin width in frame"
   ]
  },
  {
   "cell_type": "markdown",
   "metadata": {},
   "source": [
    "<hr>"
   ]
  }
 ],
 "metadata": {
  "kernelspec": {
   "display_name": "Python 3",
   "language": "python",
   "name": "python3"
  },
  "language_info": {
   "codemirror_mode": {
    "name": "ipython",
    "version": 3
   },
   "file_extension": ".py",
   "mimetype": "text/x-python",
   "name": "python",
   "nbconvert_exporter": "python",
   "pygments_lexer": "ipython3",
   "version": "3.8.5"
  }
 },
 "nbformat": 4,
 "nbformat_minor": 2
}
